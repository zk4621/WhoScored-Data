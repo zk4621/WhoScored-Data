{
 "cells": [
  {
   "cell_type": "code",
   "execution_count": 9,
   "id": "076c227c",
   "metadata": {},
   "outputs": [],
   "source": [
    "import json\n",
    "import time\n",
    "\n",
    "import numpy as np\n",
    "import pandas as pd\n",
    "\n",
    "from bs4 import BeautifulSoup\n",
    "\n",
    "from pydantic import BaseModel\n",
    "from typing import List, Optional\n",
    "\n",
    "from selenium import webdriver\n",
    "\n",
    "from supabase import create_client, Client"
   ]
  },
  {
   "cell_type": "code",
   "execution_count": 10,
   "id": "5cd45591",
   "metadata": {},
   "outputs": [],
   "source": [
    "driver = webdriver.Chrome()"
   ]
  },
  {
   "cell_type": "code",
   "execution_count": 11,
   "id": "2564d4a6",
   "metadata": {},
   "outputs": [],
   "source": [
    "whoscored_url = \"https://www.whoscored.com/Matches/1729226/Live/England-Premier-League-2023-2024-Manchester-United-Manchester-City\""
   ]
  },
  {
   "cell_type": "code",
   "execution_count": 12,
   "id": "d4f5c580",
   "metadata": {},
   "outputs": [],
   "source": [
    "driver.get(whoscored_url)"
   ]
  },
  {
   "cell_type": "code",
   "execution_count": 19,
   "id": "c3cc2ff3",
   "metadata": {},
   "outputs": [],
   "source": [
    "soup = BeautifulSoup(driver.page_source, 'html.parser')"
   ]
  },
  {
   "cell_type": "code",
   "execution_count": 20,
   "id": "8a10b6cb",
   "metadata": {},
   "outputs": [],
   "source": [
    "element = soup.select_one('script:-soup-contains(\"matchCentreData\")')"
   ]
  },
  {
   "cell_type": "code",
   "execution_count": 21,
   "id": "96b66c29",
   "metadata": {},
   "outputs": [],
   "source": [
    "matchdict = json.loads(element.text.split(\"matchCentreData: \")[1].split(\",\\n\")[0])"
   ]
  },
  {
   "cell_type": "code",
   "execution_count": 22,
   "id": "fd74b43d",
   "metadata": {},
   "outputs": [
    {
     "data": {
      "text/plain": [
       "dict_keys(['playerIdNameDictionary', 'periodMinuteLimits', 'timeStamp', 'attendance', 'venueName', 'referee', 'weatherCode', 'elapsed', 'startTime', 'startDate', 'score', 'htScore', 'ftScore', 'etScore', 'pkScore', 'statusCode', 'periodCode', 'home', 'away', 'maxMinute', 'minuteExpanded', 'maxPeriod', 'expandedMinutes', 'expandedMaxMinute', 'periodEndMinutes', 'commonEvents', 'events', 'timeoutInSeconds'])"
      ]
     },
     "execution_count": 22,
     "metadata": {},
     "output_type": "execute_result"
    }
   ],
   "source": [
    "matchdict.keys()"
   ]
  },
  {
   "cell_type": "code",
   "execution_count": 23,
   "id": "8262511e",
   "metadata": {},
   "outputs": [
    {
     "data": {
      "text/plain": [
       "{'id': 2610512675.0,\n",
       " 'eventId': 32,\n",
       " 'minute': 3,\n",
       " 'second': 6,\n",
       " 'teamId': 167,\n",
       " 'playerId': 303139,\n",
       " 'x': 57.4,\n",
       " 'y': 26.2,\n",
       " 'expandedMinute': 3,\n",
       " 'period': {'value': 1, 'displayName': 'FirstHalf'},\n",
       " 'type': {'value': 1, 'displayName': 'Pass'},\n",
       " 'outcomeType': {'value': 1, 'displayName': 'Successful'},\n",
       " 'qualifiers': [{'type': {'value': 178, 'displayName': 'StandingSave'}},\n",
       "  {'type': {'value': 156, 'displayName': 'LayOff'}},\n",
       "  {'type': {'value': 140, 'displayName': 'PassEndX'}, 'value': '43.7'},\n",
       "  {'type': {'value': 56, 'displayName': 'Zone'}, 'value': 'Back'},\n",
       "  {'type': {'value': 212, 'displayName': 'Length'}, 'value': '15.2'},\n",
       "  {'type': {'value': 141, 'displayName': 'PassEndY'}, 'value': '18.8'},\n",
       "  {'type': {'value': 213, 'displayName': 'Angle'}, 'value': '3.48'}],\n",
       " 'satisfiedEventsTypes': [91, 117, 30, 35, 38, 216, 218],\n",
       " 'isTouch': True,\n",
       " 'endX': 43.7,\n",
       " 'endY': 18.8}"
      ]
     },
     "execution_count": 23,
     "metadata": {},
     "output_type": "execute_result"
    }
   ],
   "source": [
    "matchdict['events'][55]"
   ]
  },
  {
   "cell_type": "code",
   "execution_count": 24,
   "id": "4d9493ad",
   "metadata": {},
   "outputs": [],
   "source": [
    "match_events = matchdict['events']"
   ]
  },
  {
   "cell_type": "code",
   "execution_count": 25,
   "id": "7cec0b74",
   "metadata": {},
   "outputs": [],
   "source": [
    "df = pd.DataFrame(match_events)"
   ]
  },
  {
   "cell_type": "code",
   "execution_count": 26,
   "id": "3a110c2a",
   "metadata": {},
   "outputs": [
    {
     "data": {
      "text/html": [
       "<div>\n",
       "<style scoped>\n",
       "    .dataframe tbody tr th:only-of-type {\n",
       "        vertical-align: middle;\n",
       "    }\n",
       "\n",
       "    .dataframe tbody tr th {\n",
       "        vertical-align: top;\n",
       "    }\n",
       "\n",
       "    .dataframe thead th {\n",
       "        text-align: right;\n",
       "    }\n",
       "</style>\n",
       "<table border=\"1\" class=\"dataframe\">\n",
       "  <thead>\n",
       "    <tr style=\"text-align: right;\">\n",
       "      <th></th>\n",
       "      <th>id</th>\n",
       "      <th>eventId</th>\n",
       "      <th>minute</th>\n",
       "      <th>second</th>\n",
       "      <th>teamId</th>\n",
       "      <th>x</th>\n",
       "      <th>y</th>\n",
       "      <th>expandedMinute</th>\n",
       "      <th>period</th>\n",
       "      <th>type</th>\n",
       "      <th>...</th>\n",
       "      <th>endY</th>\n",
       "      <th>relatedEventId</th>\n",
       "      <th>relatedPlayerId</th>\n",
       "      <th>blockedX</th>\n",
       "      <th>blockedY</th>\n",
       "      <th>goalMouthZ</th>\n",
       "      <th>goalMouthY</th>\n",
       "      <th>isShot</th>\n",
       "      <th>cardType</th>\n",
       "      <th>isGoal</th>\n",
       "    </tr>\n",
       "  </thead>\n",
       "  <tbody>\n",
       "    <tr>\n",
       "      <th>0</th>\n",
       "      <td>2.610509e+09</td>\n",
       "      <td>2</td>\n",
       "      <td>0</td>\n",
       "      <td>0.0</td>\n",
       "      <td>167</td>\n",
       "      <td>0.0</td>\n",
       "      <td>0.0</td>\n",
       "      <td>0</td>\n",
       "      <td>{'value': 1, 'displayName': 'FirstHalf'}</td>\n",
       "      <td>{'value': 32, 'displayName': 'Start'}</td>\n",
       "      <td>...</td>\n",
       "      <td>NaN</td>\n",
       "      <td>NaN</td>\n",
       "      <td>NaN</td>\n",
       "      <td>NaN</td>\n",
       "      <td>NaN</td>\n",
       "      <td>NaN</td>\n",
       "      <td>NaN</td>\n",
       "      <td>NaN</td>\n",
       "      <td>NaN</td>\n",
       "      <td>NaN</td>\n",
       "    </tr>\n",
       "    <tr>\n",
       "      <th>1</th>\n",
       "      <td>2.610509e+09</td>\n",
       "      <td>2</td>\n",
       "      <td>0</td>\n",
       "      <td>0.0</td>\n",
       "      <td>32</td>\n",
       "      <td>0.0</td>\n",
       "      <td>0.0</td>\n",
       "      <td>0</td>\n",
       "      <td>{'value': 1, 'displayName': 'FirstHalf'}</td>\n",
       "      <td>{'value': 32, 'displayName': 'Start'}</td>\n",
       "      <td>...</td>\n",
       "      <td>NaN</td>\n",
       "      <td>NaN</td>\n",
       "      <td>NaN</td>\n",
       "      <td>NaN</td>\n",
       "      <td>NaN</td>\n",
       "      <td>NaN</td>\n",
       "      <td>NaN</td>\n",
       "      <td>NaN</td>\n",
       "      <td>NaN</td>\n",
       "      <td>NaN</td>\n",
       "    </tr>\n",
       "    <tr>\n",
       "      <th>2</th>\n",
       "      <td>2.610509e+09</td>\n",
       "      <td>3</td>\n",
       "      <td>0</td>\n",
       "      <td>0.0</td>\n",
       "      <td>32</td>\n",
       "      <td>50.2</td>\n",
       "      <td>49.9</td>\n",
       "      <td>0</td>\n",
       "      <td>{'value': 1, 'displayName': 'FirstHalf'}</td>\n",
       "      <td>{'value': 1, 'displayName': 'Pass'}</td>\n",
       "      <td>...</td>\n",
       "      <td>46.3</td>\n",
       "      <td>NaN</td>\n",
       "      <td>NaN</td>\n",
       "      <td>NaN</td>\n",
       "      <td>NaN</td>\n",
       "      <td>NaN</td>\n",
       "      <td>NaN</td>\n",
       "      <td>NaN</td>\n",
       "      <td>NaN</td>\n",
       "      <td>NaN</td>\n",
       "    </tr>\n",
       "    <tr>\n",
       "      <th>3</th>\n",
       "      <td>2.610510e+09</td>\n",
       "      <td>4</td>\n",
       "      <td>0</td>\n",
       "      <td>1.0</td>\n",
       "      <td>32</td>\n",
       "      <td>34.8</td>\n",
       "      <td>47.9</td>\n",
       "      <td>0</td>\n",
       "      <td>{'value': 1, 'displayName': 'FirstHalf'}</td>\n",
       "      <td>{'value': 1, 'displayName': 'Pass'}</td>\n",
       "      <td>...</td>\n",
       "      <td>76.1</td>\n",
       "      <td>NaN</td>\n",
       "      <td>NaN</td>\n",
       "      <td>NaN</td>\n",
       "      <td>NaN</td>\n",
       "      <td>NaN</td>\n",
       "      <td>NaN</td>\n",
       "      <td>NaN</td>\n",
       "      <td>NaN</td>\n",
       "      <td>NaN</td>\n",
       "    </tr>\n",
       "    <tr>\n",
       "      <th>4</th>\n",
       "      <td>2.610510e+09</td>\n",
       "      <td>5</td>\n",
       "      <td>0</td>\n",
       "      <td>3.0</td>\n",
       "      <td>32</td>\n",
       "      <td>32.5</td>\n",
       "      <td>76.1</td>\n",
       "      <td>0</td>\n",
       "      <td>{'value': 1, 'displayName': 'FirstHalf'}</td>\n",
       "      <td>{'value': 1, 'displayName': 'Pass'}</td>\n",
       "      <td>...</td>\n",
       "      <td>94.4</td>\n",
       "      <td>NaN</td>\n",
       "      <td>NaN</td>\n",
       "      <td>NaN</td>\n",
       "      <td>NaN</td>\n",
       "      <td>NaN</td>\n",
       "      <td>NaN</td>\n",
       "      <td>NaN</td>\n",
       "      <td>NaN</td>\n",
       "      <td>NaN</td>\n",
       "    </tr>\n",
       "  </tbody>\n",
       "</table>\n",
       "<p>5 rows × 26 columns</p>\n",
       "</div>"
      ],
      "text/plain": [
       "             id  eventId  minute  second  teamId     x     y  expandedMinute  \\\n",
       "0  2.610509e+09        2       0     0.0     167   0.0   0.0               0   \n",
       "1  2.610509e+09        2       0     0.0      32   0.0   0.0               0   \n",
       "2  2.610509e+09        3       0     0.0      32  50.2  49.9               0   \n",
       "3  2.610510e+09        4       0     1.0      32  34.8  47.9               0   \n",
       "4  2.610510e+09        5       0     3.0      32  32.5  76.1               0   \n",
       "\n",
       "                                     period  \\\n",
       "0  {'value': 1, 'displayName': 'FirstHalf'}   \n",
       "1  {'value': 1, 'displayName': 'FirstHalf'}   \n",
       "2  {'value': 1, 'displayName': 'FirstHalf'}   \n",
       "3  {'value': 1, 'displayName': 'FirstHalf'}   \n",
       "4  {'value': 1, 'displayName': 'FirstHalf'}   \n",
       "\n",
       "                                    type  ...  endY relatedEventId  \\\n",
       "0  {'value': 32, 'displayName': 'Start'}  ...   NaN            NaN   \n",
       "1  {'value': 32, 'displayName': 'Start'}  ...   NaN            NaN   \n",
       "2    {'value': 1, 'displayName': 'Pass'}  ...  46.3            NaN   \n",
       "3    {'value': 1, 'displayName': 'Pass'}  ...  76.1            NaN   \n",
       "4    {'value': 1, 'displayName': 'Pass'}  ...  94.4            NaN   \n",
       "\n",
       "  relatedPlayerId  blockedX  blockedY  goalMouthZ  goalMouthY  isShot  \\\n",
       "0             NaN       NaN       NaN         NaN         NaN     NaN   \n",
       "1             NaN       NaN       NaN         NaN         NaN     NaN   \n",
       "2             NaN       NaN       NaN         NaN         NaN     NaN   \n",
       "3             NaN       NaN       NaN         NaN         NaN     NaN   \n",
       "4             NaN       NaN       NaN         NaN         NaN     NaN   \n",
       "\n",
       "   cardType  isGoal  \n",
       "0       NaN     NaN  \n",
       "1       NaN     NaN  \n",
       "2       NaN     NaN  \n",
       "3       NaN     NaN  \n",
       "4       NaN     NaN  \n",
       "\n",
       "[5 rows x 26 columns]"
      ]
     },
     "execution_count": 26,
     "metadata": {},
     "output_type": "execute_result"
    }
   ],
   "source": [
    "df.head()"
   ]
  },
  {
   "cell_type": "code",
   "execution_count": 27,
   "id": "c423e740",
   "metadata": {},
   "outputs": [],
   "source": [
    "df.dropna(subset='playerId', inplace=True)"
   ]
  },
  {
   "cell_type": "code",
   "execution_count": 28,
   "id": "a1d4f512",
   "metadata": {},
   "outputs": [],
   "source": [
    "df = df.where(pd.notnull(df), None)"
   ]
  },
  {
   "cell_type": "code",
   "execution_count": 29,
   "id": "4b2f900e",
   "metadata": {},
   "outputs": [
    {
     "data": {
      "text/plain": [
       "Index(['id', 'eventId', 'minute', 'second', 'teamId', 'x', 'y',\n",
       "       'expandedMinute', 'period', 'type', 'outcomeType', 'qualifiers',\n",
       "       'satisfiedEventsTypes', 'isTouch', 'playerId', 'endX', 'endY',\n",
       "       'relatedEventId', 'relatedPlayerId', 'blockedX', 'blockedY',\n",
       "       'goalMouthZ', 'goalMouthY', 'isShot', 'cardType', 'isGoal'],\n",
       "      dtype='object')"
      ]
     },
     "execution_count": 29,
     "metadata": {},
     "output_type": "execute_result"
    }
   ],
   "source": [
    "df.columns"
   ]
  },
  {
   "cell_type": "code",
   "execution_count": 30,
   "id": "cbabd2cd",
   "metadata": {},
   "outputs": [],
   "source": [
    "df = df.rename (\n",
    "    {\n",
    "        'eventId': 'event_id',\n",
    "        'teamId': 'team_id',\n",
    "        'expandedMinute': 'expanded_minute',\n",
    "        'outcomeType': 'outcome_type',\n",
    "        'isTouch': 'is_touch',\n",
    "        'playerId': 'player_id',\n",
    "        'endX': 'end_x',\n",
    "        'endY': 'end_y',\n",
    "        'blockedX': 'blocked_x',\n",
    "        'blockedY': 'blocked_y',\n",
    "        'goalMouthZ': 'goal_mouth_z',\n",
    "        'goalMouthY': 'goal_mouth_y',\n",
    "        'isShot': 'is_shot',\n",
    "        'cardType': 'card_type',\n",
    "        'isGoal': 'is_goal'\n",
    "    },\n",
    "    axis=1\n",
    ")"
   ]
  },
  {
   "cell_type": "code",
   "execution_count": 31,
   "id": "529a8aae",
   "metadata": {},
   "outputs": [],
   "source": [
    "df['period_display_name'] = df['period'].apply(lambda x: x['displayName'])\n",
    "df['type_display_name'] = df['type'].apply(lambda x: x['displayName'])\n",
    "df['outcome_type_display_name'] = df['outcome_type'].apply(lambda x: x['displayName'])"
   ]
  },
  {
   "cell_type": "code",
   "execution_count": 32,
   "id": "33c16775",
   "metadata": {},
   "outputs": [
    {
     "data": {
      "text/plain": [
       "2    {'value': 1, 'displayName': 'Pass'}\n",
       "3    {'value': 1, 'displayName': 'Pass'}\n",
       "4    {'value': 1, 'displayName': 'Pass'}\n",
       "5    {'value': 1, 'displayName': 'Pass'}\n",
       "6    {'value': 1, 'displayName': 'Pass'}\n",
       "Name: type, dtype: object"
      ]
     },
     "execution_count": 32,
     "metadata": {},
     "output_type": "execute_result"
    }
   ],
   "source": [
    "df['type'].head()"
   ]
  },
  {
   "cell_type": "code",
   "execution_count": 33,
   "id": "d703580d",
   "metadata": {},
   "outputs": [],
   "source": [
    "df.drop(columns=[\"period\",\"type\",\"outcome_type\"], inplace=True)"
   ]
  },
  {
   "cell_type": "code",
   "execution_count": 34,
   "id": "4c425cdf",
   "metadata": {},
   "outputs": [],
   "source": [
    "df = df[[\n",
    "       'id', 'event_id', 'minute', 'second', 'team_id', 'player_id', 'x', 'y', 'end_x', 'end_y',\n",
    "       'expanded_minute','qualifiers', 'is_touch','blocked_x', 'blocked_y',\n",
    "       'goal_mouth_z', 'goal_mouth_y', 'is_shot', 'card_type', 'is_goal', 'type_display_name', \n",
    "       'outcome_type_display_name', 'period_display_name'\n",
    "]]"
   ]
  },
  {
   "cell_type": "code",
   "execution_count": null,
   "id": "7a061d9c",
   "metadata": {},
   "outputs": [],
   "source": []
  }
 ],
 "metadata": {
  "kernelspec": {
   "display_name": "Python 3 (ipykernel)",
   "language": "python",
   "name": "python3"
  },
  "language_info": {
   "codemirror_mode": {
    "name": "ipython",
    "version": 3
   },
   "file_extension": ".py",
   "mimetype": "text/x-python",
   "name": "python",
   "nbconvert_exporter": "python",
   "pygments_lexer": "ipython3",
   "version": "3.11.5"
  }
 },
 "nbformat": 4,
 "nbformat_minor": 5
}
